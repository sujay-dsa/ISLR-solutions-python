{
 "cells": [
  {
   "cell_type": "markdown",
   "metadata": {},
   "source": [
    "# Python Equivalent Code for Chapter 2 of ISLR"
   ]
  },
  {
   "cell_type": "markdown",
   "metadata": {},
   "source": [
    "Here I try to map the commands specified in R to \n",
    "the python equivalent. All commands are as mentioned\n",
    "in ISLR chapter 2."
   ]
  },
  {
   "cell_type": "code",
   "execution_count": 1,
   "metadata": {},
   "outputs": [
    {
     "data": {
      "text/plain": [
       "list"
      ]
     },
     "execution_count": 1,
     "metadata": {},
     "output_type": "execute_result"
    }
   ],
   "source": [
    "# Basic Commands\n",
    "# creating a vector (python equivalent is list)\n",
    "x=[1,2,3,4]   \n",
    "y = [1,4,3,7]\n",
    "type(x)"
   ]
  },
  {
   "cell_type": "code",
   "execution_count": 2,
   "metadata": {},
   "outputs": [
    {
     "data": {
      "text/plain": [
       "4"
      ]
     },
     "execution_count": 2,
     "metadata": {},
     "output_type": "execute_result"
    }
   ],
   "source": [
    "# Finding the length\n",
    "# R command : length (x)\n",
    "len(x)"
   ]
  },
  {
   "cell_type": "code",
   "execution_count": 3,
   "metadata": {},
   "outputs": [
    {
     "data": {
      "text/plain": [
       "array([ 2,  6,  6, 11])"
      ]
     },
     "execution_count": 3,
     "metadata": {},
     "output_type": "execute_result"
    }
   ],
   "source": [
    "# adding two lists\n",
    "# R command: x+y\n",
    "# In python plain x+y will concatenate the two lists. \n",
    "# So numpy arrays make it easier. \n",
    "\n",
    "import numpy as np\n",
    "np.array(x) + np.array(y)"
   ]
  },
  {
   "cell_type": "code",
   "execution_count": 5,
   "metadata": {},
   "outputs": [
    {
     "name": "stdout",
     "output_type": "stream",
     "text": [
      "[[1 3]\n",
      " [2 4]]\n"
     ]
    }
   ],
   "source": [
    "# Creating a matrix\n",
    "# R command : x=matrix (data=c(1,2,3,4) , nrow=2, ncol =2)\n",
    "# R reads this data column wise so we need to specify the order explicitly\n",
    "x_2 = np.array([1,2,3,4]).reshape((2,2),order=\"F\") \n",
    "print(x_2)"
   ]
  },
  {
   "cell_type": "code",
   "execution_count": 6,
   "metadata": {},
   "outputs": [
    {
     "data": {
      "text/plain": [
       "array([[1, 2],\n",
       "       [3, 4]])"
      ]
     },
     "execution_count": 6,
     "metadata": {},
     "output_type": "execute_result"
    }
   ],
   "source": [
    "# matrix (c(1,2,3,4) ,2,2,byrow =TRUE)\n",
    "np.array([1,2,3,4]).reshape((2,2)) "
   ]
  },
  {
   "cell_type": "code",
   "execution_count": 7,
   "metadata": {},
   "outputs": [
    {
     "data": {
      "text/plain": [
       "array([[ 1,  9],\n",
       "       [ 4, 16]], dtype=int32)"
      ]
     },
     "execution_count": 7,
     "metadata": {},
     "output_type": "execute_result"
    }
   ],
   "source": [
    "# R  command : sqrt(x)\n",
    "# R command : x^2\n",
    "np.sqrt(x)\n",
    "np.sqrt(x_2)\n",
    "np.square(x_2)"
   ]
  },
  {
   "cell_type": "code",
   "execution_count": 8,
   "metadata": {},
   "outputs": [
    {
     "data": {
      "text/plain": [
       "array([-0.25827447,  1.06218585, -1.09497862,  0.84604725, -0.09861192,\n",
       "       -2.22038924, -0.27290557,  0.34115063, -1.1178686 , -0.26257729,\n",
       "       -0.76987718, -2.33235329,  0.92735639,  0.74527308, -0.20165203,\n",
       "        0.05101061,  0.49166043, -0.39073755,  0.64280314, -0.11251166,\n",
       "       -0.36843931, -0.52712183, -0.58745556,  1.78057029,  0.09575703,\n",
       "        2.59059413,  0.91236506,  2.46725447, -1.00329635, -1.43487068,\n",
       "        0.65816094,  1.66367887,  0.04142814, -1.35169134, -0.07488342,\n",
       "        0.39946233,  0.73228718, -1.69187921,  0.52406355, -1.26738265,\n",
       "       -1.69894855,  0.35202011,  1.65845467, -1.32382478, -0.79673535,\n",
       "        0.45899258,  2.10917165,  0.95584701, -0.03726276,  0.1682482 ])"
      ]
     },
     "execution_count": 8,
     "metadata": {},
     "output_type": "execute_result"
    }
   ],
   "source": [
    "# R command:  rnorm(50)\n",
    "np.random.randn(50)"
   ]
  },
  {
   "cell_type": "code",
   "execution_count": 9,
   "metadata": {},
   "outputs": [
    {
     "data": {
      "text/plain": [
       "array([[ 1.        ,  0.99416617],\n",
       "       [ 0.99416617,  1.        ]])"
      ]
     },
     "execution_count": 9,
     "metadata": {},
     "output_type": "execute_result"
    }
   ],
   "source": [
    "# R command :  y= x + rnorm(50, mean = 50, sd= 0.1)\n",
    "# cor(x,y)\n",
    "x= np.random.randn(50)\n",
    "y= x + (0.1*np.random.randn(50) + 50)\n",
    "np.corrcoef(y,x)"
   ]
  },
  {
   "cell_type": "markdown",
   "metadata": {},
   "source": [
    "### Graphics (will update soon)"
   ]
  },
  {
   "cell_type": "code",
   "execution_count": 10,
   "metadata": {},
   "outputs": [
    {
     "data": {
      "text/plain": [
       "<matplotlib.collections.PathCollection at 0x21274dd5400>"
      ]
     },
     "execution_count": 10,
     "metadata": {},
     "output_type": "execute_result"
    }
   ],
   "source": [
    "\n",
    "# x= rnorm(100)\n",
    "# y= rnorm(100)\n",
    "# plot (x, y)\n",
    "# plot(x,y,xlab=\" this is the x-axis\",ylab=\" this is the y-axis\",\n",
    "#        main=\" Plot of X vs Y\")\n",
    "\n",
    "import matplotlib.pyplot as plt\n",
    "\n",
    "x = np.random.randn(50)\n",
    "y = np.random.randn(50)\n",
    "plt.scatter(x,y)"
   ]
  },
  {
   "cell_type": "markdown",
   "metadata": {},
   "source": [
    "### Indexing Data"
   ]
  },
  {
   "cell_type": "code",
   "execution_count": 11,
   "metadata": {},
   "outputs": [
    {
     "data": {
      "text/plain": [
       "10"
      ]
     },
     "execution_count": 11,
     "metadata": {},
     "output_type": "execute_result"
    }
   ],
   "source": [
    "# A=matrix (1:16 ,4 ,4)\n",
    "# A[2,3]\n",
    "\n",
    "A = np.array([list(range(1,17))]).reshape((4,4), order=\"F\") # gotta give last number +1\n",
    "A[1,2] # python indexing starts from 0\n"
   ]
  },
  {
   "cell_type": "code",
   "execution_count": 12,
   "metadata": {},
   "outputs": [
    {
     "data": {
      "text/plain": [
       "array([[ 2,  6, 10, 14],\n",
       "       [ 4,  8, 12, 16]])"
      ]
     },
     "execution_count": 12,
     "metadata": {},
     "output_type": "execute_result"
    }
   ],
   "source": [
    "# A[c(1,3) ,c(2,4) ]\n",
    "# A[-c(1,3),]\n",
    "A[np.ix_([0,2],[1,3])]\n",
    "A[np.ix_(range(3),range(1,4))]\n",
    "np.delete(A, [0,2], axis=0)"
   ]
  },
  {
   "cell_type": "code",
   "execution_count": null,
   "metadata": {},
   "outputs": [],
   "source": []
  }
 ],
 "metadata": {
  "kernelspec": {
   "display_name": "Python 3",
   "language": "python",
   "name": "python3"
  },
  "language_info": {
   "codemirror_mode": {
    "name": "ipython",
    "version": 3
   },
   "file_extension": ".py",
   "mimetype": "text/x-python",
   "name": "python",
   "nbconvert_exporter": "python",
   "pygments_lexer": "ipython3",
   "version": "3.6.3"
  }
 },
 "nbformat": 4,
 "nbformat_minor": 2
}
