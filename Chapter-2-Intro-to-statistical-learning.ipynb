# -*- coding: utf-8 -*-
"""
Created on Tue Feb 20 22:28:35 2018

Here I try to map the commands specified in R to 
the python equivalent. All commands are as mentioned
in ISLR chapter 2.


@author: Sujay
"""

# Basic Commands
# creating a vector (python equivalent is list)
x=[1,2,3,4]   
y = [1,4,3,7]
type(x)

# Finding the length
# R command : length (x)
len(x)

# adding two lists
# R command: x+y
# In python plain x+y will concatenate the two lists. 
# So numpy arrays make it easier. 

import numpy as np
np.array(x) + np.array(y)

# Creating a matrix
# R command : x=matrix (data=c(1,2,3,4) , nrow=2, ncol =2)
# R reads this data column wise so we need to specify the order explicitly
x_2 = np.array([1,2,3,4]).reshape((2,2),order="F") 

# matrix (c(1,2,3,4) ,2,2,byrow =TRUE)
np.array([1,2,3,4]).reshape((2,2)) 


# R  command : sqrt(x)
# R command : x^2
np.sqrt(x)
np.sqrt(x_2)
np.square(x_2)

# R command:  rnorm(50)
np.random.randn(50)

# R command :  y= x + rnorm(50, mean = 50, sd= 0.1)
# cor(x,y)
x= np.random.randn(50)
y= x + (0.1*np.random.randn(50) + 50)
np.corrcoef(y,x)

##### Graphics ########################
# x= rnorm(100)
# y= rnorm(100)
# plot (x, y)
# plot(x,y,xlab=" this is the x-axis",ylab=" this is the y-axis",
#        main=" Plot of X vs Y")

import matplotlib.pyplot as plt

x = np.random.randn(50)
y = np.random.randn(50)
plt.scatter(x,y)

############ Indexing data ###################

# A=matrix (1:16 ,4 ,4)
# A[2,3]

A = np.array([list(range(1,17))]).reshape((4,4), order="F") # gotta give last number +1
A[1,2] # python indexing starts from 0


# A[c(1,3) ,c(2,4) ]
# A[-c(1,3),]
A[np.ix_([0,2],[1,3])]
A[np.ix_(range(3),range(1,4))]
np.delete(A, [0,2], axis=0)



